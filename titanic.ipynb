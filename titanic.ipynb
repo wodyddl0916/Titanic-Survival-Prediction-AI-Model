{
  "nbformat": 4,
  "nbformat_minor": 0,
  "metadata": {
    "colab": {
      "provenance": []
    },
    "kernelspec": {
      "name": "python3",
      "display_name": "Python 3"
    },
    "language_info": {
      "name": "python"
    }
  },
  "cells": [
    {
      "cell_type": "code",
      "source": [
        "import pandas as pd\n",
        "import xgboost as xgb\n",
        "from sklearn.model_selection import train_test_split\n",
        "from sklearn.metrics import accuracy_score\n",
        "from sklearn.metrics import roc_auc_score\n",
        "import seaborn as sns\n",
        "import matplotlib.pyplot as plt\n",
        "from sklearn.preprocessing import OrdinalEncoder\n",
        "from scipy.stats import mode\n",
        "from sklearn.model_selection import GridSearchCV, train_test_split\n",
        "from sklearn.preprocessing import LabelEncoder\n",
        "\n",
        "# 1. 데이터 로드\n",
        "train = pd.read_csv('train.csv')\n",
        "test = pd.read_csv('test.csv')\n",
        "submission = pd.read_csv('submission.csv')"
      ],
      "metadata": {
        "id": "itQnIi1vrsGN"
      },
      "execution_count": null,
      "outputs": []
    },
    {
      "cell_type": "markdown",
      "source": [
        "## 1. 데이터 전처리"
      ],
      "metadata": {
        "id": "gvKhtGmOr4IM"
      }
    },
    {
      "cell_type": "code",
      "source": [
        "# Parch가 같은 사람들의 나이 평균으로 Age의 결측치 채우기\n",
        "train['Age'] = train.groupby('Parch')['Age'].transform(lambda x: x.fillna(x.mean()))\n",
        "\n",
        "# train에서 Age 결측치가 남아있다면 전체 평균으로 채우기\n",
        "train['Age'].fillna(train['Age'].mean(), inplace=True)\n",
        "\n",
        "# test에서도 동일한 처리\n",
        "test['Age'] = test.groupby('Parch')['Age'].transform(lambda x: x.fillna(x.mean()))\n",
        "\n",
        "# test에서 Age 결측치가 남아있다면 전체 평균으로 채우기\n",
        "test['Age'].fillna(test['Age'].mean(), inplace=True)\n",
        "\n",
        "# Fare 결측치를 Pclass가 같은 그룹의 평균으로 채우기\n",
        "train['Fare'] = train.groupby('Pclass')['Fare'].transform(lambda x: x.fillna(x.mean()))\n",
        "test['Fare'] = test.groupby('Pclass')['Fare'].transform(lambda x: x.fillna(x.mean()))"
      ],
      "metadata": {
        "id": "70h4-Acnte0F"
      },
      "execution_count": null,
      "outputs": []
    },
    {
      "source": [
        "# Cabin의 첫 글자 추출\n",
        "train['Cabin_First_Letter'] = train['Cabin'].str[0]\n",
        "test['Cabin_First_Letter'] = test['Cabin'].str[0]\n",
        "\n",
        "# Cabin의 첫 글자를 Label Encoding으로 변환\n",
        "# LabelEncoder를 사용하여 문자열을 숫자로 변환\n",
        "encoder = LabelEncoder()\n",
        "train['Cabin_First_Letter'] = encoder.fit_transform(train['Cabin_First_Letter'])\n",
        "test['Cabin_First_Letter'] = encoder.transform(test['Cabin_First_Letter'])\n",
        "\n",
        "# Cabin 컬럼 삭제\n",
        "train.drop(columns=['Cabin'], inplace=True)\n",
        "test.drop(columns=['Cabin'], inplace=True)\n",
        "\n",
        "# 결측치를 Fare가 같은 그룹의 Cabin_First_Letter의 최빈값으로 대체하는 함수 정의\n",
        "train['Cabin_First_Letter'] = train.groupby('Pclass')['Cabin_First_Letter'].transform(lambda x: x.fillna(x.mode()[0] if not x.mode().empty else 0))\n",
        "test['Cabin_First_Letter'] = test.groupby('Pclass')['Cabin_First_Letter'].transform(lambda x: x.fillna(x.mode()[0] if not x.mode().empty else 0))"
      ],
      "cell_type": "code",
      "metadata": {
        "id": "u84KoT1YvR_z"
      },
      "execution_count": null,
      "outputs": []
    },
    {
      "cell_type": "code",
      "source": [
        "# Embarked 열의 최빈값 계산\n",
        "most_common_embarked_train = train['Embarked'].mode()[0]\n",
        "most_common_embarked_test = test['Embarked'].mode()[0]\n",
        "\n",
        "# Embarked 결측치를 최빈값으로 채우기\n",
        "train['Embarked'].fillna(most_common_embarked_train, inplace=True)\n",
        "test['Embarked'].fillna(most_common_embarked_test, inplace=True)\n",
        "\n",
        "# 나이를 범주화하는 함수 정의\n",
        "def categorize_age(age):\n",
        "    if age <= 12:\n",
        "        return 'Child'\n",
        "    elif age <= 19:\n",
        "        return 'Teenager'\n",
        "    elif age <= 34:\n",
        "        return 'Young Adult'\n",
        "    elif age <= 49:\n",
        "        return 'Middle Age'\n",
        "    elif age <= 64:\n",
        "        return 'Senior'\n",
        "    else :\n",
        "        return 'Elderly'\n",
        "\n",
        "train['Age_Category'] = train['Age'].apply(categorize_age)\n",
        "test['Age_Category'] = test['Age'].apply(categorize_age)"
      ],
      "metadata": {
        "id": "dguoaW-1wzKd"
      },
      "execution_count": null,
      "outputs": []
    },
    {
      "cell_type": "code",
      "source": [
        "# 성별 인코딩\n",
        "train['Sex'] = train['Sex'].map({'male': 0, 'female': 1})\n",
        "test['Sex'] = test['Sex'].map({'male': 0, 'female': 1})\n",
        "\n",
        "# 나이 범주와 성별 결합\n",
        "train['Age_Sex'] = train['Age_Category'] + '_' + train['Sex'].map({0: 'male', 1: 'female'})\n",
        "test['Age_Sex'] = test['Age_Category'] + '_' + test['Sex'].map({0: 'male', 1: 'female'})"
      ],
      "metadata": {
        "id": "UfnSSG7NxNBV"
      },
      "execution_count": null,
      "outputs": []
    },
    {
      "cell_type": "code",
      "source": [
        "# 나이를 범주화\n",
        "train['Age_Category'] = train['Age'].apply(categorize_age)\n",
        "test['Age_Category'] = test['Age'].apply(categorize_age)\n",
        "\n",
        "# 불필요한 열 제거\n",
        "train = train.drop(columns=['Name', 'Ticket', 'Age_Category'])\n",
        "test = test.drop(columns=['Name', 'Ticket', 'Age_Category'])"
      ],
      "metadata": {
        "id": "8vVEh4ukxYpc"
      },
      "execution_count": null,
      "outputs": []
    },
    {
      "cell_type": "code",
      "source": [
        "# 라벨 인코딩 함수\n",
        "def label_encode_columns(df, columns):\n",
        "    label_encoders = {}\n",
        "    for col in columns:\n",
        "        le = LabelEncoder()\n",
        "        df[col] = le.fit_transform(df[col].astype(str))\n",
        "        label_encoders[col] = le\n",
        "    return df, label_encoders\n",
        "\n",
        "# 라벨 인코딩할 컬럼 지정\n",
        "columns_to_encode = ['Embarked', 'Age_Sex']\n",
        "\n",
        "# train 데이터와 test 데이터에 대해 라벨 인코딩 수행\n",
        "train, train_label_encoders = label_encode_columns(train, columns_to_encode)\n",
        "test, test_label_encoders = label_encode_columns(test, columns_to_encode)\n",
        "\n",
        "# SibSp (형제/배우자 수)와 Parch (부모/자녀 수)를 합산한 후, 본인을 포함시켜 family_size 생성\n",
        "train['family_size'] = train['SibSp'] + train['Parch'] + 1\n",
        "test['family_size'] = test['SibSp'] + test['Parch'] + 1"
      ],
      "metadata": {
        "id": "3xg6nvNax9Gd"
      },
      "execution_count": null,
      "outputs": []
    },
    {
      "cell_type": "code",
      "source": [
        "# 3. 학습/검증 데이터셋 분할\n",
        "X = train.drop(columns=['Survived', 'PassengerId'])\n",
        "y = train['Survived']\n",
        "\n",
        "# 훈련/검증 데이터 분리\n",
        "X_train, X_val, y_train, y_val = train_test_split(X, y, test_size=0.2, random_state=42)\n",
        "\n",
        "# Define param_grid for hyperparameter tuning\n",
        "param_grid = {\n",
        "    'max_depth': [3, 5, 7],\n",
        "    'learning_rate': [0.1, 0.01, 0.001],\n",
        "    'n_estimators': [100, 200, 300],\n",
        "    'subsample': [0.8, 0.9, 1.0],\n",
        "    'colsample_bytree': [0.8, 0.9, 1.0]\n",
        "}\n",
        "\n",
        "# 하이퍼파라미터 튜닝 설정 (GridSearchCV)\n",
        "xgb_model = xgb.XGBClassifier(eval_metric=\"auc\", use_label_encoder=False)\n",
        "\n",
        "grid_search = GridSearchCV(\n",
        "    estimator=xgb_model,\n",
        "    param_grid=param_grid,\n",
        "    scoring='roc_auc',         # AUC 기준으로 최적 파라미터 탐색\n",
        "    cv=5,                      # 5-폴드 교차 검증\n",
        "    verbose=1,\n",
        "    n_jobs=-1                  # 모든 CPU 코어 사용\n",
        ")\n",
        "\n",
        "# 4. 모델 튜닝 실행\n",
        "grid_search.fit(X_train, y_train)\n",
        "\n",
        "# 5. 최적 모델 학습 및 검증\n",
        "best_model = grid_search.best_estimator_  # 최적 모델\n",
        "\n",
        "# 최적 모델로 전체 훈련 데이터 학습\n",
        "best_model.fit(X_train, y_train)\n",
        "\n",
        "# 검증 데이터에 대한 예측\n",
        "val_predictions = best_model.predict_proba(X_val)[:, 1]\n",
        "val_auc = roc_auc_score(y_val, val_predictions)\n",
        "print(f\"Optimized AUC: {val_auc:.4f}\")\n",
        "\n",
        "# 6. 테스트 데이터에 대한 예측\n",
        "X_test = test.drop(columns=['PassengerId'])  # PassengerId 제외\n",
        "test_predictions = best_model.predict_proba(X_test)[:, 1]  # 예측 수행\n",
        "\n",
        "# 결과를 데이터프레임으로 변환\n",
        "submission = pd.DataFrame({\n",
        "    'PassengerId': test['PassengerId'],  # 테스트 데이터의 PassengerId 가져오기\n",
        "    'Survived': (test_predictions > 0.5).astype(int)  # 0.5 기준으로 생존 여부 예측\n",
        "})\n",
        "\n",
        "# 예측 결과 확인\n",
        "print(submission.head())\n",
        "\n",
        "# 7. 예측 결과를 CSV 파일로 저장 (캐글 제출용)\n",
        "submission.to_csv('submission_basecode.csv', index=False)"
      ],
      "metadata": {
        "colab": {
          "base_uri": "https://localhost:8080/"
        },
        "id": "AkrL8-0g2zev",
        "outputId": "8786db75-dfb7-48bf-ad0b-2b4ca05cc042"
      },
      "execution_count": null,
      "outputs": [
        {
          "output_type": "stream",
          "name": "stdout",
          "text": [
            "Fitting 5 folds for each of 243 candidates, totalling 1215 fits\n",
            "Optimized AUC: 0.8940\n",
            "   PassengerId  Survived\n",
            "0          892         0\n",
            "1          893         1\n",
            "2          894         0\n",
            "3          895         0\n",
            "4          896         0\n"
          ]
        },
        {
          "output_type": "stream",
          "name": "stderr",
          "text": [
            "/usr/local/lib/python3.10/dist-packages/xgboost/core.py:158: UserWarning: [13:50:23] WARNING: /workspace/src/learner.cc:740: \n",
            "Parameters: { \"use_label_encoder\" } are not used.\n",
            "\n",
            "  warnings.warn(smsg, UserWarning)\n",
            "/usr/local/lib/python3.10/dist-packages/xgboost/core.py:158: UserWarning: [13:50:23] WARNING: /workspace/src/learner.cc:740: \n",
            "Parameters: { \"use_label_encoder\" } are not used.\n",
            "\n",
            "  warnings.warn(smsg, UserWarning)\n"
          ]
        }
      ]
    }
  ]
}